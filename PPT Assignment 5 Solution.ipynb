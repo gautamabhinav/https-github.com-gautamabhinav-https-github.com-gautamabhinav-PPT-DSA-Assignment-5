{
 "cells": [
  {
   "cell_type": "code",
   "execution_count": 1,
   "id": "85d64e78",
   "metadata": {},
   "outputs": [
    {
     "name": "stdout",
     "output_type": "stream",
     "text": [
      "[2, 3, 5, 4, 1, 7]\n"
     ]
    }
   ],
   "source": [
    "#1\n",
    "def shuffle_array(nums, n):\n",
    "    result = []\n",
    "    for i in range(n):\n",
    "        result.append(nums[i])\n",
    "        result.append(nums[i + n])\n",
    "    return result\n",
    "\n",
    "\n",
    "nums = [2, 5, 1, 3, 4, 7]\n",
    "n = 3\n",
    "shuffled = shuffle_array(nums, n)\n",
    "print(shuffled)\n"
   ]
  },
  {
   "cell_type": "code",
   "execution_count": 2,
   "id": "d582c76d",
   "metadata": {},
   "outputs": [
    {
     "name": "stdout",
     "output_type": "stream",
     "text": [
      "2\n"
     ]
    }
   ],
   "source": [
    "#2\n",
    "def count_complete_rows(n):\n",
    "    k = 0\n",
    "    while k * (k + 1) // 2 <= n:\n",
    "        k += 1\n",
    "    return k - 1\n",
    "\n",
    "# Test case\n",
    "n = 5\n",
    "result = count_complete_rows(n)\n",
    "print(result)\n"
   ]
  },
  {
   "cell_type": "code",
   "execution_count": 3,
   "id": "c2c364ef",
   "metadata": {},
   "outputs": [
    {
     "name": "stdout",
     "output_type": "stream",
     "text": [
      "[0, 1, 9, 16, 100]\n"
     ]
    }
   ],
   "source": [
    "#3\n",
    "def sorted_squares(nums):\n",
    "    result = []\n",
    "    \n",
    "    for num in nums:\n",
    "        result.append(num * num)\n",
    "    \n",
    "    result.sort()\n",
    "    \n",
    "    return result\n",
    "\n",
    "# Test case\n",
    "nums = [-4, -1, 0, 3, 10]\n",
    "result = sorted_squares(nums)\n",
    "print(result)\n"
   ]
  },
  {
   "cell_type": "code",
   "execution_count": 4,
   "id": "f4276df8",
   "metadata": {},
   "outputs": [
    {
     "name": "stdout",
     "output_type": "stream",
     "text": [
      "[[1, 3], [4, 6]]\n"
     ]
    }
   ],
   "source": [
    "#4\n",
    "def find_missing_elements(nums1, nums2):\n",
    "    set_nums1 = set(nums1)\n",
    "    set_nums2 = set(nums2)\n",
    "    \n",
    "    distinct_nums1 = list(set_nums1 - set_nums2)\n",
    "    distinct_nums2 = list(set_nums2 - set_nums1)\n",
    "    \n",
    "    return [distinct_nums1, distinct_nums2]\n",
    "\n",
    "# Test case\n",
    "nums1 = [1, 2, 3]\n",
    "nums2 = [2, 4, 6]\n",
    "result = find_missing_elements(nums1, nums2)\n",
    "print(result)\n"
   ]
  },
  {
   "cell_type": "code",
   "execution_count": 5,
   "id": "c216e507",
   "metadata": {},
   "outputs": [
    {
     "name": "stdout",
     "output_type": "stream",
     "text": [
      "2\n"
     ]
    }
   ],
   "source": [
    "#5\n",
    "def distance_value(arr1, arr2, d):\n",
    "    count = 0\n",
    "    \n",
    "    for num1 in arr1:\n",
    "        found = False\n",
    "        \n",
    "        for num2 in arr2:\n",
    "            if abs(num1 - num2) <= d:\n",
    "                found = True\n",
    "                break\n",
    "        \n",
    "        if not found:\n",
    "            count += 1\n",
    "    \n",
    "    return count\n",
    "\n",
    "# Test case\n",
    "arr1 = [4, 5, 8]\n",
    "arr2 = [10, 9, 1, 8]\n",
    "d = 2\n",
    "result = distance_value(arr1, arr2, d)\n",
    "print(result)\n"
   ]
  },
  {
   "cell_type": "code",
   "execution_count": 6,
   "id": "4e120138",
   "metadata": {},
   "outputs": [
    {
     "name": "stdout",
     "output_type": "stream",
     "text": [
      "[2, 3]\n"
     ]
    }
   ],
   "source": [
    "#6\n",
    "def find_duplicates(nums):\n",
    "    result = []\n",
    "\n",
    "    for num in nums:\n",
    "        index = abs(num) - 1\n",
    "        if nums[index] < 0:\n",
    "            result.append(abs(num))\n",
    "        else:\n",
    "            nums[index] = -nums[index]\n",
    "\n",
    "    return result\n",
    "\n",
    "# Test case\n",
    "nums = [4, 3, 2, 7, 8, 2, 3, 1]\n",
    "result = find_duplicates(nums)\n",
    "print(result)\n"
   ]
  },
  {
   "cell_type": "code",
   "execution_count": 7,
   "id": "b813ed1d",
   "metadata": {},
   "outputs": [
    {
     "name": "stdout",
     "output_type": "stream",
     "text": [
      "1\n"
     ]
    }
   ],
   "source": [
    "#7\n",
    "def find_minimum(nums):\n",
    "    left = 0\n",
    "    right = len(nums) - 1\n",
    "\n",
    "    while left < right:\n",
    "        middle = (left + right) // 2\n",
    "\n",
    "        if nums[middle] > nums[right]:\n",
    "            left = middle + 1\n",
    "        else:\n",
    "            right = middle\n",
    "\n",
    "    return nums[left]\n",
    "\n",
    "# Test case\n",
    "nums = [3, 4, 5, 1, 2]\n",
    "result = find_minimum(nums)\n",
    "print(result)\n"
   ]
  },
  {
   "cell_type": "code",
   "execution_count": 8,
   "id": "1e028eb3",
   "metadata": {},
   "outputs": [
    {
     "name": "stdout",
     "output_type": "stream",
     "text": [
      "[1, 3, 4]\n"
     ]
    }
   ],
   "source": [
    "#8\n",
    "from collections import Counter\n",
    "\n",
    "def findOriginalArray(changed):\n",
    "    # Check if the length of the changed array is odd\n",
    "    if len(changed) % 2 != 0:\n",
    "        return []\n",
    "\n",
    "    # Count the frequency of each element in the changed array\n",
    "    freq = Counter(changed)\n",
    "\n",
    "    # Sort the changed array in ascending order\n",
    "    changed.sort()\n",
    "\n",
    "    # Construct the original array\n",
    "    original = []\n",
    "    for num in changed:\n",
    "        # Check if the doubled value is available in the frequency counter\n",
    "        if freq[num] > 0 and freq[num * 2] > 0:\n",
    "            original.append(num)\n",
    "            freq[num] -= 1\n",
    "            freq[num * 2] -= 1\n",
    "\n",
    "    # Check if all elements have been used in the original array\n",
    "    for count in freq.values():\n",
    "        if count > 0:\n",
    "            return []\n",
    "\n",
    "    return original\n",
    "\n",
    "# Test case\n",
    "changed = [1, 3, 4, 2, 6, 8]\n",
    "original = findOriginalArray(changed)\n",
    "print(original)\n"
   ]
  },
  {
   "cell_type": "code",
   "execution_count": null,
   "id": "de213d3a",
   "metadata": {},
   "outputs": [],
   "source": []
  }
 ],
 "metadata": {
  "kernelspec": {
   "display_name": "Python 3 (ipykernel)",
   "language": "python",
   "name": "python3"
  },
  "language_info": {
   "codemirror_mode": {
    "name": "ipython",
    "version": 3
   },
   "file_extension": ".py",
   "mimetype": "text/x-python",
   "name": "python",
   "nbconvert_exporter": "python",
   "pygments_lexer": "ipython3",
   "version": "3.10.5"
  }
 },
 "nbformat": 4,
 "nbformat_minor": 5
}
